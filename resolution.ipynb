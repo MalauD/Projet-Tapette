{
 "cells": [
  {
   "cell_type": "code",
   "execution_count": 4,
   "metadata": {},
   "outputs": [],
   "source": [
    "import numpy as np\n",
    "import matplotlib.pyplot as plt\n",
    "from scipy.integrate import solve_ivp"
   ]
  },
  {
   "cell_type": "code",
   "execution_count": 3,
   "metadata": {},
   "outputs": [],
   "source": [
    "def eq_diff_voiture(x,t,d,Db,Df,b,l,meq):\n",
    "    p=0.055\n",
    "    Cr=3.3e-4\n",
    "    k=0.092\n",
    "    theta_0=4.615\n",
    "    req=1/(2/Db+2/Df)\n",
    "    \n",
    "    theta = x[0]\n",
    "    theta_d = x[1]\n",
    "\n",
    "    x_d = theta_d\n",
    "    x_dd = 1/np.sin(theta)*(-theta_d**2*np.cos(theta)+np.sqrt(b**2+l**2-2*b*l*np.cos(theta))*(theta_d**2*b*l*np.sin(theta)**2/((b**2+l**2-2*b*l*np.cos(theta))**(3/2))+d/(meq*Db*b*l)*(-k*(theta-theta_0)*d*np.sqrt(b**2+l**2-2*b*l*np.cos(theta))/(Db*b*l*np.sin(theta))-Cr/req-p*Db*b*l/d*theta_d*np.sin(theta)/(np.sqrt(b**2+l**2-2*b*l*np.cos(theta))))))\n",
    "\n",
    "    return np.array([x_d, x_dd])"
   ]
  },
  {
   "cell_type": "code",
   "execution_count": 5,
   "metadata": {},
   "outputs": [],
   "source": [
    "def solve_eq_diff_voiture(params):\n",
    "    return solve_ivp(eq_diff_voiture, [0, 1000], [0.1, 0], args=(params['d'], params['Db'], params['Df'], params['b'], params['l'], params['meq']), t_eval=np.linspace(0, 1000, 10000))\n",
    "\n",
    "def calculate_speed_from_sol(sol, params):\n",
    "    theta = sol.y[0]\n",
    "    theta_d = sol.y[1]\n",
    "\n",
    "    v_1 = params['Db']/params['d']*params['b']*params['l']*theta_d*np.sin(theta)/np.sqrt(params['b']**2+params['l']**2-2*params['b']*params['l']*np.cos(theta))\n",
    "    # On calcule la suite sans le ressort avec une formule explicite\n",
    "    v_fin = v_1[-1]\n",
    "    req = 1/(2/params['Db']+2/params['Df'])\n",
    "    v_2 = v_fin-3.3e-4/(params['mc']*req)*sol.t\n",
    "    # On renvoie la vitesse en phase 1 concaténée avec la vitesse en phase 2\n",
    "    return np.concatenate((v_1, v_2))\n",
    "\n",
    "def plot_speed(sol, params):\n",
    "    v = calculate_speed_from_sol(sol, params)\n",
    "    plt.plot(sol.t, v)\n",
    "    plt.xlabel('Temps (s)')\n",
    "    plt.ylabel('Vitesse (m/s)')\n",
    "    plt.show()"
   ]
  }
 ],
 "metadata": {
  "kernelspec": {
   "display_name": "Python 3",
   "language": "python",
   "name": "python3"
  },
  "language_info": {
   "codemirror_mode": {
    "name": "ipython",
    "version": 3
   },
   "file_extension": ".py",
   "mimetype": "text/x-python",
   "name": "python",
   "nbconvert_exporter": "python",
   "pygments_lexer": "ipython3",
   "version": "3.8.8"
  }
 },
 "nbformat": 4,
 "nbformat_minor": 2
}
