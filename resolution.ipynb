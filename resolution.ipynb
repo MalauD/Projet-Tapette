{
 "cells": [
  {
   "cell_type": "code",
   "execution_count": 2,
   "metadata": {},
   "outputs": [],
   "source": [
    "import numpy as np\n",
    "import matplotlib.pyplot as plt\n",
    "from scipy.integrate import solve_ivp, simpson\n",
    "from scipy.optimize import minimize, differential_evolution, minimize, basinhopping, brute"
   ]
  },
  {
   "cell_type": "code",
   "execution_count": 3,
   "metadata": {},
   "outputs": [],
   "source": [
    "def eq_diff_voiture(t,x,d,Db,Df,b,l,meq):\n",
    "    p=0.055\n",
    "    Cr=3.3e-4\n",
    "    k=0.092\n",
    "    theta_0=4.615\n",
    "    req=1/(2/Db+2/Df)\n",
    "    \n",
    "    theta = x[0]\n",
    "    theta_d = x[1]\n",
    "\n",
    "    x_d = theta_d\n",
    "    x_dd = 1/np.sin(theta)*(-theta_d**2*np.cos(theta)+np.sqrt(b**2+l**2-2*b*l*np.cos(theta))*(theta_d**2*b*l*np.sin(theta)**2/((b**2+l**2-2*b*l*np.cos(theta))**(3/2))+d/(meq*Db*b*l)*(-k*(theta-theta_0)*d*np.sqrt(b**2+l**2-2*b*l*np.cos(theta))/(Db*b*l*np.sin(theta))-Cr/req-p*Db*b*l/d*theta_d*np.sin(theta)/(np.sqrt(b**2+l**2-2*b*l*np.cos(theta))))))\n",
    "\n",
    "    return np.array([x_d, x_dd])"
   ]
  },
  {
   "cell_type": "code",
   "execution_count": 4,
   "metadata": {},
   "outputs": [],
   "source": [
    "def solve_eq_diff_voiture(params):\n",
    "    t_i ,t_f = 0, 15\n",
    "    return solve_ivp(eq_diff_voiture, [t_i, t_f], [0.1, 0], args=(params['d'], params['Db'], params['Df'], params['b'], params['l'], params['meq']), t_eval=np.linspace(t_i, t_f, 50))    \n",
    "\n",
    "def calculate_speed_from_sol(sol, params):\n",
    "    theta = sol.y[0]\n",
    "    theta_d = sol.y[1]\n",
    "\n",
    "    v_1 = params['Db']/params['d']*params['b']*params['l']*theta_d*np.sin(theta)/np.sqrt(params['b']**2+params['l']**2-2*params['b']*params['l']*np.cos(theta))\n",
    "    # On calcule la suite sans le ressort avec une formule explicite\n",
    "    v_fin = v_1[-1]\n",
    "    req = 1/(2/params['Db']+2/params['Df'])\n",
    "    v_2 = v_fin-3.3e-4/(params['mc']*req)*sol.t\n",
    "    # On recalcule le temps sur la phase 1 pour le concaténer avec la phase 2\n",
    "    t = np.linspace(0, sol.t[-1]*2, len(v_1)*2)\n",
    "    # On renvoie la position, la vitesse en phase 1 concaténée avec la vitesse en phase 2 et le temps\n",
    "    return np.concatenate((v_1, v_2)), t\n",
    "\n",
    "def calculate_time_to_reach_length(v, t, length):\n",
    "    # On calcule la distance parcourue à chaque instant\n",
    "    distance = np.zeros(len(t))\n",
    "    for i in range(1, len(t)):\n",
    "        distance[i] = simpson(v[:i], t[:i])\n",
    "    # On cherche l'indice du premier instant où la distance parcourue est supérieure à la longueur de la piste\n",
    "    to = t[np.argmax(distance > length)]\n",
    "    if to == 0:\n",
    "        return np.inf\n",
    "    return to\n",
    "\n",
    "    \n",
    "\n",
    "def plot_speed(v, t):\n",
    "    plt.plot(t, v)\n",
    "    plt.xlabel('Temps (s)')\n",
    "    plt.ylabel('Vitesse (m/s)')\n",
    "    plt.show()"
   ]
  },
  {
   "cell_type": "code",
   "execution_count": 5,
   "metadata": {},
   "outputs": [
    {
     "name": "stdout",
     "output_type": "stream",
     "text": [
      "  message: 'Required step size is less than spacing between numbers.'\n",
      "     nfev: 644\n",
      "     njev: 0\n",
      "      nlu: 0\n",
      "      sol: None\n",
      "   status: -1\n",
      "  success: False\n",
      "        t: array([0.        , 0.30612245, 0.6122449 , 0.91836735, 1.2244898 ,\n",
      "       1.53061224, 1.83673469, 2.14285714, 2.44897959, 2.75510204,\n",
      "       3.06122449, 3.36734694, 3.67346939, 3.97959184, 4.28571429,\n",
      "       4.59183673, 4.89795918, 5.20408163, 5.51020408, 5.81632653,\n",
      "       6.12244898, 6.42857143, 6.73469388, 7.04081633])\n",
      " t_events: None\n",
      "        y: array([[0.1       , 0.11744259, 0.15845434, 0.21120491, 0.27139307,\n",
      "        0.33748319, 0.40876145, 0.48476782, 0.5651947 , 0.64985975,\n",
      "        0.73862575, 0.83148913, 0.92859645, 1.0302444 , 1.13687983,\n",
      "        1.24910309, 1.36784666, 1.49452225, 1.63123318, 1.78114967,\n",
      "        1.94987348, 2.14793183, 2.40120682, 2.83945313],\n",
      "       [0.        , 0.10465846, 0.15692841, 0.18569838, 0.20676855,\n",
      "        0.22467687, 0.24075755, 0.25563372, 0.26970102, 0.28331313,\n",
      "        0.29674066, 0.31031821, 0.32448776, 0.33979859, 0.35690738,\n",
      "        0.37658275, 0.39994848, 0.42878557, 0.46601822, 0.51651996,\n",
      "        0.59103491, 0.71519183, 0.98140448, 2.58004612]])\n",
      " y_events: None\n",
      "24\n",
      "12.583586626139818\n"
     ]
    },
    {
     "data": {
      "image/png": "[encoded data removed]",
      "text/plain": [
       "<Figure size 432x288 with 1 Axes>"
      ]
     },
     "metadata": {
      "needs_background": "light"
     },
     "output_type": "display_data"
    }
   ],
   "source": [
    "fixed_params = {\n",
    "    'meq': 0.1634,  # masse+ moments d'inerties\n",
    "    'mc': 0.1546,  # masse véhicule\n",
    "}\n",
    "\n",
    "params_var_test = {\n",
    "    'd': 0.01,\n",
    "    'Db': 2 * 0.075,\n",
    "    'Df': 2 * 0.05,\n",
    "    'b': 0.3,\n",
    "    'l': 0.26,\n",
    "}\n",
    "\n",
    "params_test = {**fixed_params, **params_var_test}\n",
    "\n",
    "sol = solve_eq_diff_voiture(params_test)\n",
    "print(sol)\n",
    "print(len(sol.t))\n",
    "v, t = calculate_speed_from_sol(sol, params_test)\n",
    "print(calculate_time_to_reach_length(v, t, 15))\n",
    "plot_speed(v, t)\n"
   ]
  },
  {
   "cell_type": "code",
   "execution_count": 6,
   "metadata": {},
   "outputs": [],
   "source": [
    "# Maintenant on cherche les paramètres optimaux pour atteindre 15m en le moins de temps possible\n",
    "bounds = [\n",
    "    (3e-3, 0.1),  # d\n",
    "    (0.03, 0.3),  # Db\n",
    "    (0.03, 0.3),  # Df\n",
    "    (0.03, 1),  # b\n",
    "    (0.03, 1),  # l\n",
    "]\n",
    "\n",
    "def objective(X):\n",
    "    # Concatenate fixed and variable parameters\n",
    "    params = {\n",
    "        'd': X[0],\n",
    "        'Db': X[1],\n",
    "        'Df': X[2],\n",
    "        'b': X[3],\n",
    "        'l': X[4],\n",
    "        **fixed_params\n",
    "    }\n",
    "    sol = solve_eq_diff_voiture(params)\n",
    "    v, t = calculate_speed_from_sol(sol, params)\n",
    "    return calculate_time_to_reach_length(v, t, 15)\n",
    "\n",
    "def find_optimal_params():\n",
    "    def callback(x, convergence):\n",
    "        print(f'x: {x}, convergence: {convergence}')\n",
    "\n",
    "    x0 = params_var_test.values()\n",
    "    return differential_evolution(objective, bounds=bounds, maxiter=10, callback=callback, disp=True, workers=-1, updating='deferred')\n",
    "\n",
    "opt = find_optimal_params()\n",
    "print(opt)\n",
    "\n",
    "# On peut maintenant afficher la vitesse en fonction du temps pour les paramètres optimaux\n",
    "optimal_params = {\n",
    "    'd': opt.x[0],\n",
    "    'Db': opt.x[1],\n",
    "    'Df': opt.x[2],\n",
    "    'b': opt.x[3],\n",
    "    'l': opt.x[4],\n",
    "    **fixed_params\n",
    "}\n",
    "\n",
    "sol = solve_eq_diff_voiture(optimal_params)\n",
    "v, t = calculate_speed_from_sol(sol, optimal_params)\n",
    "plot_speed(v, t)\n",
    "print(calculate_time_to_reach_length(v, t, 15))\n"
   ]
  },
  {
   "cell_type": "code",
   "execution_count": null,
   "metadata": {},
   "outputs": [
    {
     "name": "stdout",
     "output_type": "stream",
     "text": [
      "{'d': 0.04444745230807337, 'Db': 0.2186095130510126, 'Df': 0.2809241818525379, 'b': 0.6121161731920443, 'l': 0.622318051568829, 'meq': 0.1634, 'mc': 0.1546}\n"
     ]
    }
   ],
   "source": [
    "calculate_time_to_reach_length(v, t, 15)\n",
    "#Print optimal parameters\n",
    "print(optimal_params)"
   ]
  },
  {
   "cell_type": "code",
   "execution_count": null,
   "metadata": {},
   "outputs": [],
   "source": []
  }
 ],
 "metadata": {
  "kernelspec": {
   "display_name": "Python 3",
   "language": "python",
   "name": "python3"
  },
  "language_info": {
   "codemirror_mode": {
    "name": "ipython",
    "version": 3
   },
   "file_extension": ".py",
   "mimetype": "text/x-python",
   "name": "python",
   "nbconvert_exporter": "python",
   "pygments_lexer": "ipython3",
   "version": "3.8.8"
  }
 },
 "nbformat": 4,
 "nbformat_minor": 2
}
